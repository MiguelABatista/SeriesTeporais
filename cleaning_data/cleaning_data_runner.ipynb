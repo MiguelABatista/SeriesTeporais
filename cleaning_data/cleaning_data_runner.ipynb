{
 "cells": [
  {
   "cell_type": "code",
   "execution_count": 1,
   "metadata": {},
   "outputs": [
    {
     "ename": "ImportError",
     "evalue": "attempted relative import with no known parent package",
     "output_type": "error",
     "traceback": [
      "\u001b[1;31m---------------------------------------------------------------------------\u001b[0m",
      "\u001b[1;31mImportError\u001b[0m                               Traceback (most recent call last)",
      "\u001b[1;32mc:\\Users\\miguel.batista_bigda\\Documents\\GitHub\\SeriesTeporais\\cleaning_data\\cleaning_data_runner.ipynb Cell 1\u001b[0m line \u001b[0;36m5\n\u001b[0;32m      <a href='vscode-notebook-cell:/c%3A/Users/miguel.batista_bigda/Documents/GitHub/SeriesTeporais/cleaning_data/cleaning_data_runner.ipynb#W0sZmlsZQ%3D%3D?line=2'>3</a>\u001b[0m \u001b[39mimport\u001b[39;00m \u001b[39mconcatenate\u001b[39;00m\n\u001b[0;32m      <a href='vscode-notebook-cell:/c%3A/Users/miguel.batista_bigda/Documents/GitHub/SeriesTeporais/cleaning_data/cleaning_data_runner.ipynb#W0sZmlsZQ%3D%3D?line=3'>4</a>\u001b[0m \u001b[39mimport\u001b[39;00m \u001b[39mos\u001b[39;00m\n\u001b[1;32m----> <a href='vscode-notebook-cell:/c%3A/Users/miguel.batista_bigda/Documents/GitHub/SeriesTeporais/cleaning_data/cleaning_data_runner.ipynb#W0sZmlsZQ%3D%3D?line=4'>5</a>\u001b[0m \u001b[39mfrom\u001b[39;00m \u001b[39m.\u001b[39;00m\u001b[39m.\u001b[39;00m\u001b[39mconfig\u001b[39;00m \u001b[39mimport\u001b[39;00m \u001b[39m*\u001b[39m\n",
      "\u001b[1;31mImportError\u001b[0m: attempted relative import with no known parent package"
     ]
    }
   ],
   "source": [
    "import getting_rio\n",
    "import organizing_by_station\n",
    "import concatenate\n",
    "import os\n",
    "from seiesteporais import config"
   ]
  },
  {
   "cell_type": "code",
   "execution_count": 2,
   "metadata": {},
   "outputs": [],
   "source": [
    "base_path = r\"C:\\Users\\miguel.batista_bigda\\Documents\\GitHub\\SeriesTeporais\" # Path to the main folder\n",
    "raw_file_path = os.path.join(base_path, \"files\", \"raw_files\") \n",
    "just_rio_path = os.path.join(base_path, \"files\", \"just_rio\")\n",
    "organized_by_station_path = os.path.join(base_path, \"files\", \"organized_by_station\")\n",
    "xlm_dict_path = os.path.join(base_path, \"cleaning_data\", \"column_dict.xml\")\n",
    "daily_data_path = os.path.join(base_path, \"files\", \"daily_data\")"
   ]
  },
  {
   "cell_type": "code",
   "execution_count": null,
   "metadata": {},
   "outputs": [],
   "source": [
    "print(base_path)"
   ]
  },
  {
   "cell_type": "code",
   "execution_count": 3,
   "metadata": {},
   "outputs": [
    {
     "name": "stdout",
     "output_type": "stream",
     "text": [
      "Getting Rio done!\n"
     ]
    }
   ],
   "source": [
    "#First we'll get from all station, just the rio de janeiro stations\n",
    "getting_rio.main(raw_file_path, just_rio_path)\n",
    "print(\"Getting Rio done!\")"
   ]
  },
  {
   "cell_type": "code",
   "execution_count": 4,
   "metadata": {},
   "outputs": [
    {
     "name": "stdout",
     "output_type": "stream",
     "text": [
      "Organizing by station done!\n"
     ]
    }
   ],
   "source": [
    "#Then we'll organize all this stations in folders by station and not by year\n",
    "organizing_by_station.main(just_rio_path, organized_by_station_path)\n",
    "print(\"Organizing by station done!\")"
   ]
  },
  {
   "cell_type": "code",
   "execution_count": 5,
   "metadata": {},
   "outputs": [
    {
     "name": "stdout",
     "output_type": "stream",
     "text": [
      "A601 done \n",
      "A602 done \n",
      "A603 done \n",
      "A604 done \n",
      "A606 done \n",
      "A607 done \n",
      "A608 done \n",
      "A609 done \n",
      "A610 done \n",
      "A611 done \n",
      "A618 done \n",
      "A619 done \n",
      "A620 done \n",
      "A621 done \n",
      "A624 done \n",
      "A625 done \n",
      "A626 done \n",
      "A627 done \n",
      "A628 done \n",
      "A629 done \n",
      "A630 done \n",
      "A635 done \n",
      "A636 done \n",
      "A637 done \n",
      "A652 done \n",
      "A659 done \n",
      "A667 done \n",
      "Concatenate done!\n"
     ]
    }
   ],
   "source": [
    "#Now all setup is done, we can do the big cleaning\n",
    "#This code take each station folder, concatenate all files in a single dataframe\n",
    "#Besides that it normalize the columns names, the NaN values and the date format\n",
    "#For last it tranform the data from hourly to daily\n",
    "concatenate.main(xlm_dict_path, organized_by_station_path, daily_data_path)\n",
    "print(\"Concatenate done!\")"
   ]
  }
 ],
 "metadata": {
  "kernelspec": {
   "display_name": "base",
   "language": "python",
   "name": "python3"
  },
  "language_info": {
   "codemirror_mode": {
    "name": "ipython",
    "version": 3
   },
   "file_extension": ".py",
   "mimetype": "text/x-python",
   "name": "python",
   "nbconvert_exporter": "python",
   "pygments_lexer": "ipython3",
   "version": "3.11.3"
  }
 },
 "nbformat": 4,
 "nbformat_minor": 2
}
