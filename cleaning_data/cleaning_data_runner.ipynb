{
 "cells": [
  {
   "cell_type": "code",
   "execution_count": 2,
   "metadata": {},
   "outputs": [],
   "source": [
    "import getting_rio\n",
    "import organizing_by_station\n",
    "import concatenate\n",
    "import os\n"
   ]
  },
  {
   "cell_type": "code",
   "execution_count": 3,
   "metadata": {},
   "outputs": [
    {
     "name": "stdout",
     "output_type": "stream",
     "text": [
      "Getting Rio done!\n"
     ]
    }
   ],
   "source": [
    "#First we'll get from all station, just the rio de janeiro stations\n",
    "getting_rio.main()"
   ]
  },
  {
   "cell_type": "code",
   "execution_count": 4,
   "metadata": {},
   "outputs": [
    {
     "name": "stdout",
     "output_type": "stream",
     "text": [
      "Organizing by station done!\n"
     ]
    }
   ],
   "source": [
    "#Then we'll organize all this stations in folders by station and not by year\n",
    "organizing_by_station.main()"
   ]
  },
  {
   "cell_type": "code",
   "execution_count": 5,
   "metadata": {},
   "outputs": [
    {
     "name": "stdout",
     "output_type": "stream",
     "text": [
      "A601 done \n",
      "A602 done \n",
      "A603 done \n",
      "A604 done \n",
      "A606 done \n",
      "A607 done \n",
      "A608 done \n",
      "A609 done \n",
      "A610 done \n",
      "A611 done \n",
      "A618 done \n",
      "A619 done \n",
      "A620 done \n",
      "A621 done \n",
      "A624 done \n",
      "A625 done \n",
      "A626 done \n",
      "A627 done \n",
      "A628 done \n",
      "A629 done \n",
      "A630 done \n",
      "A635 done \n",
      "A636 done \n",
      "A637 done \n",
      "A652 done \n",
      "A659 done \n",
      "A667 done \n",
      "Concatenate done!\n"
     ]
    }
   ],
   "source": [
    "#Now all setup is done, we can do the big cleaning\n",
    "#This code take each station folder, concatenate all files in a single dataframe\n",
    "#Besides that it normalize the columns names, the NaN values and the date format\n",
    "#For last it tranform the data from hourly to daily\n",
    "concatenate.main()"
   ]
  }
 ],
 "metadata": {
  "kernelspec": {
   "display_name": "base",
   "language": "python",
   "name": "python3"
  },
  "language_info": {
   "codemirror_mode": {
    "name": "ipython",
    "version": 3
   },
   "file_extension": ".py",
   "mimetype": "text/x-python",
   "name": "python",
   "nbconvert_exporter": "python",
   "pygments_lexer": "ipython3",
   "version": "3.11.3"
  }
 },
 "nbformat": 4,
 "nbformat_minor": 2
}
